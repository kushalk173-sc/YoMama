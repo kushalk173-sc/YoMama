{
 "cells": [
  {
   "cell_type": "markdown",
   "metadata": {},
   "source": [
    "# Fluid‑HD Decoding & Results\n",
    "\n",
    "In this notebook we:\n",
    "1. Load saved `hop_log` and `M_memory`.\n",
    "2. Decode top‑k hop partners for each agent.\n",
    "3. Compute Recall@1 and Recall@5.\n",
    "4. Plot metrics vs. HD dimension and affinity gap.\n",
    "5. Visualize true vs. decoded hop matrices and SNR curves."
   ]
  },
  {
   "cell_type": "markdown",
   "metadata": {},
   "source": [
    "## 2.1. Load Results"
   ]
  },
  {
   "cell_type": "code",
   "execution_count": null,
   "metadata": {},
   "outputs": [],
   "source": [
    "# Analysis parameters\n",
    "D           = 4096\n",
    "tau_intra   = 0.85\n",
    "tau_inter   = 0.35\n",
    "top_k       = [1,5]\n",
    "\n",
    "log_path    = '../results/hop_log.pkl'\n",
    "mem_path    = '../results/M_memory.npz'"
   ]
  },
  {
   "cell_type": "markdown",
   "metadata": {},
   "source": [
    "## 2.2. Decode Partners"
   ]
  },
  {
   "cell_type": "code",
   "execution_count": null,
   "metadata": {},
   "outputs": [],
   "source": [
    "import pickle\n",
    "import numpy as np\n",
    "import pandas as pd\n",
    "import matplotlib.pyplot as plt\n",
    "import seaborn as sns\n",
    "\n",
    "from binding    import HDBinder\n",
    "from memory     import MemoryStore\n",
    "from decoder    import decode_partners\n",
    "from utils      import compute_recall, compute_snr\n",
    "\n",
    "# load hop log & memory\n",
    "with open(log_path,'rb') as f: hop_log = pickle.load(f)\n",
    "M = np.load(mem_path)['M']\n",
    "\n",
    "# reconstruct E_id (same seed & D)\n",
    "binder = HDBinder(N=100, D=D, seed=seed)\n",
    "E_id   = binder.E_id"
   ]
  },
  {
   "cell_type": "markdown",
   "metadata": {},
   "source": [
    "## 2.3. Performance Analysis"
   ]
  },
  {
   "cell_type": "code",
   "execution_count": null,
   "metadata": {},
   "outputs": [],
   "source": [
    "from collections import Counter\n",
    "gt_counts = Counter((i,j) for (_,i,j) in hop_log)"
   ]
  },
  {
   "cell_type": "markdown",
   "metadata": {},
   "source": [
    "## 2.4. Visualizations"
   ]
  },
  {
   "cell_type": "code",
   "execution_count": null,
   "metadata": {},
   "outputs": [],
   "source": [
    "decoded = decode_partners(M, E_id, top_k=5) # dict i→list of js\n",
    "recalls = {k: compute_recall(decoded, gt_counts, k) for k in top_k}\n",
    "print('Recall@1 =', recalls[1], 'Recall@5 =', recalls[5])"
   ]
  },
  {
   "cell_type": "markdown",
   "metadata": {},
   "source": [
    "## 2.5. Agent Trajectory Animation (First 200 Steps)"
   ]
  },
  {
   "cell_type": "code",
   "execution_count": null,
   "metadata": {},
   "outputs": [],
   "source": [
    "# load metrics.csv if exists\n",
    "df = pd.read_csv('../results/metrics.csv')\n",
    "df['tau_gap'] = df['tau_intra'] - df['tau_inter']\n",
    "sns.lineplot(data=df.query('tau_gap==0.5'), x='D', y='recall1', marker='o')\n",
    "plt.xlabel('HD Dimension D')\n",
    "plt.ylabel('Recall@1')\n",
    "plt.title('Recall@1 vs D (gap=0.5)')\n",
    "plt.show()"
   ]
  },
  {
   "cell_type": "markdown",
   "metadata": {},
   "source": [
    "## 2.6. Heatmap: True vs Decoded Partners"
   ]
  },
  {
   "cell_type": "code",
   "execution_count": null,
   "metadata": {},
   "outputs": [],
   "source": [
    "# Create matrices for visualization\n",
    "true_matrix = np.zeros((N, N))\n",
    "decoded_matrix = np.zeros((N, N))\n",
    "\n",
    "for i in range(N):\n",
    "    for j in true_partners[i]:\n",
    "        true_matrix[i, j] = 1\n",
    "    for j in decoded_partners_5[i]:\n",
    "        decoded_matrix[i, j] = 1\n",
    "\n",
    "# Create the heatmap\n",
    "fig, (ax1, ax2) = plt.subplots(1, 2, figsize=(15, 6))\n",
    "\n",
    "# True partners heatmap\n",
    "im1 = ax1.imshow(true_matrix, cmap='Blues', aspect='equal')\n",
    "ax1.set_title('True Interaction Partners')\n",
    "ax1.set_xlabel('Agent ID')\n",
    "ax1.set_ylabel('Agent ID')\n",
    "plt.colorbar(im1, ax=ax1)\n",
    "\n",
    "# Decoded partners heatmap\n",
    "im2 = ax2.imshow(decoded_matrix, cmap='Reds', aspect='equal')\n",
    "ax2.set_title('Decoded Top-5 Partners')\n",
    "ax2.set_xlabel('Agent ID')\n",
    "ax2.set_ylabel('Agent ID')\n",
    "plt.colorbar(im2, ax=ax2)\n",
    "\n",
    "plt.tight_layout()\n",
    "plt.show()\n",
    "\n",
    "# Calculate overlap\n",
    "overlap = np.sum(true_matrix * decoded_matrix)\n",
    "total_true = np.sum(true_matrix)\n",
    "total_decoded = np.sum(decoded_matrix)\n",
    "\n",
    "print(f\"Overlap between true and decoded: {overlap}\")\n",
    "print(f\"Total true interactions: {total_true}\")\n",
    "print(f\"Total decoded interactions: {total_decoded}\")\n",
    "print(f\"Precision: {overlap/total_decoded:.3f}\")\n",
    "print(f\"Recall: {overlap/total_true:.3f}\")"
   ]
  },
  {
   "cell_type": "code",
   "execution_count": null,
   "metadata": {},
   "outputs": [],
   "source": [
    "sns.lineplot(data=df.query('D==4096'), x='tau_gap', y='recall1', marker='o')\n",
    "plt.xlabel('Affinity Gap')\n",
    "plt.ylabel('Recall@1')\n",
    "plt.title('Recall@1 vs Affinity Gap (D=4096)')\n",
    "plt.show()"
   ]
  },
  {
   "cell_type": "code",
   "execution_count": null,
   "metadata": {},
   "outputs": [],
   "source": [
    "# build matrices\n",
    "N = 100\n",
    "true_mat    = np.zeros((N,N))\n",
    "decoded_mat = np.zeros((N,N))\n",
    "for (i,j),c in gt_counts.items(): true_mat[i,j]=c\n",
    "for i,js in decoded.items(): decoded_mat[i,js]=1\n",
    "\n",
    "fig, axes = plt.subplots(1,2, figsize=(10,4))\n",
    "sns.heatmap(true_mat, ax=axes[0], cmap='magma'); axes[0].set_title('True')\n",
    "sns.heatmap(decoded_mat, ax=axes[1], cmap='magma'); axes[1].set_title('Decoded')\n",
    "plt.show()"
   ]
  },
  {
   "cell_type": "code",
   "execution_count": null,
   "metadata": {},
   "outputs": [],
   "source": []
  },
  {
   "cell_type": "code",
   "execution_count": null,
   "metadata": {},
   "outputs": [],
   "source": [
    "snrs = [compute_snr(n, D, len(hop_log)) for (_,n) in gt_counts.most_common(20)]\n",
    "plt.bar(range(20), snrs)\n",
    "plt.xlabel('Top pairs')\n",
    "plt.ylabel('SNR')\n",
    "plt.title('SNR of Top‑20 Hop Pairs')\n",
    "plt.show()"
   ]
  }
 ],
 "metadata": {
  "kernelspec": {
   "display_name": "Python 3",
   "language": "python",
   "name": "python3"
  },
  "language_info": {
   "name": "python",
   "version": "3.10.0"
  }
 },
 "nbformat": 4,
 "nbformat_minor": 4
}
