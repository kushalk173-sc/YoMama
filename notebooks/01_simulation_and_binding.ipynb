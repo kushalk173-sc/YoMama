{
 "cells": [
  {
   "cell_type": "markdown",
   "metadata": {},
   "source": [
    "# Fluid‑HD Simulation & Binding\n",
    "\n",
    "In this notebook we:\n",
    "1. Simulate a fluid “nightclub” of agents with overcrowding, goal‑drift, and jitter.\n",
    "2. Build high‑dimensional state embeddings.\n",
    "3. Detect “hop” events when agents change groups.\n",
    "4. Bind each (i→j) hop into a Hyperdimensional memory vector.\n",
    "5. Save the resulting `hop_log` and `M_memory` for later analysis."
   ]
  },
  {
   "cell_type": "markdown",
   "metadata": {},
   "source": [
    "## 1.1. Setup & Imports"
   ]
  },
  {
   "cell_type": "code",
   "execution_count": null,
   "metadata": {},
   "outputs": [],
   "source": [
    "# Parameters (tweak these!)\n",
    "N              = 100           # number of agents\n",
    "D              = 4096          # HD dimension\n",
    "tau_intra      = 0.85          # intra‑group threshold\n",
    "tau_inter      = 0.35          # inter‑group threshold\n",
    "T_steps        = 5000          # total simulation steps\n",
    "normalize_every= 500           # memory normalization interval\n",
    "seed           = 42\n",
    "\n",
    "# Path setup\n",
    "import sys, os\n",
    "sys.path.append(os.path.abspath('../src'))"
   ]
  },
  {
   "cell_type": "markdown",
   "metadata": {},
   "source": [
    "## 1.2. Set Hyperparameters\n",
    "\n",
    "Here, we define the key parameters for our simulation run. These can be tuned to explore different dynamics."
   ]
  },
  {
   "cell_type": "code",
   "execution_count": null,
   "metadata": {},
   "outputs": [],
   "source": [
    "import numpy as np\n",
    "import matplotlib.pyplot as plt\n",
    "from simulation import AgentSimulator\n",
    "from affinity   import compute_hd_embeddings, cosine_affinity\n",
    "from grouping   import build_adjacency, extract_groups\n",
    "from binding    import HDBinder\n",
    "from memory     import MemoryStore\n",
    "from utils      import set_seed\n",
    "\n",
    "# reproducibility\n",
    "set_seed(seed)\n",
    "\n",
    "# instantiate modules\n",
    "sim    = AgentSimulator(N=N, seed=seed)\n",
    "binder = HDBinder(N=N, D=D, seed=seed)\n",
    "memory = MemoryStore(D=D)"
   ]
  },
  {
   "cell_type": "markdown",
   "metadata": {},
   "source": [
    "## 1.3. Instantiate Core Components"
   ]
  },
  {
   "cell_type": "code",
   "execution_count": null,
   "metadata": {},
   "outputs": [],
   "source": [
    "hop_log     = []            # list of (t, i, j)\n",
    "prev_groups = np.zeros(N, int)\n",
    "\n",
    "for t in range(T_steps):\n",
    "    # 1) advance simulator → states shape (N,4)\n",
    "    states = sim.step()\n",
    "\n",
    "    # 2) project to HD state embeddings H: shape (N,D)\n",
    "    H = compute_hd_embeddings(states, binder.proj_W)\n",
    "\n",
    "    # 3) build affinity graph S → adjacency A\n",
    "    S = cosine_affinity(H)\n",
    "    A = build_adjacency(S, prev_groups, tau_intra, tau_inter)\n",
    "\n",
    "    # 4) extract current groups\n",
    "    curr_groups = extract_groups(A)\n",
    "    \n",
    "    # 5) detect hops and bind\n",
    "    for i in range(N):\n",
    "        if curr_groups[i] != prev_groups[i]:\n",
    "            members = np.where(curr_groups == curr_groups[i])[0]\n",
    "            for j in members:\n",
    "                hop_log.append((t, i, j))\n",
    "                binder.record_hop(memory, i, j)\n",
    "\n",
    "    prev_groups = curr_groups.copy()\n",
    "\n",
    "    # 6) optional memory normalization\n",
    "    if (t+1) % normalize_every == 0:\n",
    "        memory.normalize()"
   ]
  },
  {
   "cell_type": "markdown",
   "metadata": {},
   "source": [
    "## 1.4. Run Simulation Loop"
   ]
  },
  {
   "cell_type": "code",
   "execution_count": null,
   "metadata": {},
   "outputs": [],
   "source": [
    "# inspect first few hops\n",
    "print('First 10 hops:', hop_log[:10])\n",
    "\n",
    "# memory stats\n",
    "M = memory.M\n",
    "print('Memory distribution:', np.min(M), np.max(M), np.mean(M))\n",
    "plt.hist(M, bins=21)\n",
    "plt.title('Memory Value Distribution')\n",
    "plt.show()"
   ]
  },
  {
   "cell_type": "markdown",
   "metadata": {},
   "source": [
    "### Quick Visualization: Agent Trajectories\n",
    "\n",
    "Let's plot the paths of the first few agents to see what the simulation looks like."
   ]
  },
  {
   "cell_type": "code",
   "execution_count": null,
   "metadata": {},
   "outputs": [],
   "source": [
    "plt.figure(figsize=(8, 8))\n",
    "for i in range(min(N, 10)):\n",
    "    plt.plot(state_history[:, i, 0], state_history[:, i, 1], alpha=0.7)\n",
    "plt.title('Trajectories of First 10 Agents')\n",
    "plt.xlabel('X Position')\n",
    "plt.ylabel('Y Position')\n",
    "plt.xlim(0, 1)\n",
    "plt.ylim(0, 1)\n",
    "plt.grid(True)\n",
    "plt.show()"
   ]
  },
  {
   "cell_type": "markdown",
   "metadata": {},
   "source": [
    "## 1.5. Save Results\n",
    "\n",
    "We now save the key artifacts to disk. These will be loaded by the second notebook for evaluation and visualization."
   ]
  },
  {
   "cell_type": "code",
   "execution_count": null,
   "metadata": {},
   "outputs": [],
   "source": [
    "# collect first 200 steps for animation\n",
    "sim.reset()\n",
    "prev = np.zeros(N, int)\n",
    "pos_list, grp_list = [], []\n",
    "for t in range(200):\n",
    "    pos = sim.agent_positions()\n",
    "    states = sim.step()\n",
    "    H = compute_hd_embeddings(states, binder.proj_W)\n",
    "    A = build_adjacency(cosine_affinity(H), prev, tau_intra, tau_inter)\n",
    "    grp = extract_groups(A)\n",
    "    pos_list.append(pos.copy())\n",
    "    grp_list.append(grp.copy())\n",
    "    prev = grp\n",
    "\n",
    "# animate inline\n",
    "import matplotlib.animation as animation\n",
    "fig, ax = plt.subplots()\n",
    "scat = ax.scatter([], [], c=[], cmap='tab20', s=50)\n",
    "def update(frame):\n",
    "    pts = pos_list[frame]\n",
    "    colors = grp_list[frame]\n",
    "    scat.set_offsets(pts)\n",
    "    scat.set_array(colors)\n",
    "    ax.set_title(f'Step {frame}')\n",
    "    return scat,\n",
    "ani = animation.FuncAnimation(fig, update, frames=200, blit=True)\n",
    "from IPython.display import HTML\n",
    "HTML(ani.to_jshtml())"
   ]
  },
  {
   "cell_type": "code",
   "execution_count": null,
   "metadata": {},
   "outputs": [],
   "source": [
    "import pickle\n",
    "import numpy as np\n",
    "\n",
    "os.makedirs('../results', exist_ok=True)\n",
    "with open('../results/hop_log.pkl','wb') as f:\n",
    "    pickle.dump(hop_log, f)\n",
    "np.savez('../results/M_memory.npz', M=memory.M)\n"
   ]
  }
 ],
 "metadata": {
  "kernelspec": {
   "display_name": "Python 3",
   "language": "python",
   "name": "python3"
  },
  "language_info": {
   "name": "python",
   "version": "3.10.0"
  }
 },
 "nbformat": 4,
 "nbformat_minor": 4
}
